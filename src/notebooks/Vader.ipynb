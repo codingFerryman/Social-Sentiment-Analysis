{
 "cells": [
  {
   "cell_type": "code",
   "execution_count": 20,
   "id": "28967598-5811-40ce-bff4-ab9ea99a4e21",
   "metadata": {},
   "outputs": [],
   "source": [
    "import pandas as pd\n",
    "from pandas import DataFrame\n",
    "import numpy as np\n",
    "import re\n",
    "import os\n",
    "\n",
    "from sklearn.model_selection import train_test_split\n",
    "\n",
    "import vaderSentiment\n",
    "from vaderSentiment.vaderSentiment import SentimentIntensityAnalyzer"
   ]
  },
  {
   "cell_type": "code",
   "execution_count": 9,
   "id": "694ebb84-3116-45c9-a2ff-27b5dac354c4",
   "metadata": {},
   "outputs": [
    {
     "name": "stdout",
     "output_type": "stream",
     "text": [
      "/home/he/PycharmProjects/Computational-Intelligence-Lab/data/test_data.txt\n",
      "/home/he/PycharmProjects/Computational-Intelligence-Lab/data/train_neg.txt\n",
      "/home/he/PycharmProjects/Computational-Intelligence-Lab/data/sample_submission.csv\n",
      "/home/he/PycharmProjects/Computational-Intelligence-Lab/data/train_pos.txt\n",
      "/home/he/PycharmProjects/Computational-Intelligence-Lab/data/readme.md\n",
      "/home/he/PycharmProjects/Computational-Intelligence-Lab/data/.gitignore\n",
      "/home/he/PycharmProjects/Computational-Intelligence-Lab/data/train_pos_full.txt\n",
      "/home/he/PycharmProjects/Computational-Intelligence-Lab/data/train_neg_full.txt\n"
     ]
    }
   ],
   "source": [
    "# Load the dataset from Disk\n",
    "data_path = '../../data'\n",
    "\n",
    "for dirname, _, filenames in os.walk(data_path):\n",
    "    for filename in filenames:\n",
    "        print(os.path.abspath(os.path.join(dirname, filename)))"
   ]
  },
  {
   "cell_type": "code",
   "execution_count": 13,
   "id": "bd542f20-4e9e-4376-8096-ef49379e4348",
   "metadata": {},
   "outputs": [],
   "source": [
    "with open(os.path.join(data_path,'train_pos.txt'), 'r') as fp:\n",
    "    train_pos_sub = fp.readlines()\n",
    "\n",
    "with open(os.path.join(data_path,'train_neg.txt'), 'r') as fp:\n",
    "    train_neg_sub = fp.readlines()\n",
    "\n",
    "with open(os.path.join(data_path,'train_pos_full.txt'), 'r') as fp:\n",
    "    train_pos_full = fp.readlines()\n",
    "\n",
    "with open(os.path.join(data_path,'train_neg_full.txt'), 'r') as fp:\n",
    "    train_neg_full = fp.readlines()\n",
    "\n",
    "with open(os.path.join(data_path,'test_data.txt'), 'r') as fp:\n",
    "    test = fp.readlines()"
   ]
  },
  {
   "cell_type": "code",
   "execution_count": 28,
   "id": "7ac7d424-d302-4a53-8634-75a658ce0353",
   "metadata": {},
   "outputs": [],
   "source": [
    "# Combine pos & neg, remove <xxxx>\n",
    "\n",
    "test_data = [re.sub(r'(<.*?>)|(\\r\\n|\\r|\\n)', '', s) for s in test]\n",
    "# <user> <url>"
   ]
  },
  {
   "cell_type": "code",
   "execution_count": 29,
   "id": "e6886748-9a69-416d-a66f-507bf9942510",
   "metadata": {},
   "outputs": [
    {
     "data": {
      "text/plain": [
       "'1,sea doo pro sea scooter ( sports with the portable sea-doo seascootersave air , stay longer in the water and ... '"
      ]
     },
     "execution_count": 29,
     "metadata": {},
     "output_type": "execute_result"
    }
   ],
   "source": [
    "test_data[0]"
   ]
  },
  {
   "cell_type": "code",
   "execution_count": 30,
   "id": "320e9ea2-d83b-4266-a665-6061e67b609e",
   "metadata": {},
   "outputs": [],
   "source": [
    "analyzer = SentimentIntensityAnalyzer()"
   ]
  },
  {
   "cell_type": "code",
   "execution_count": 31,
   "id": "de6db99d-d1b2-41ae-b23c-eb884169ba35",
   "metadata": {},
   "outputs": [
    {
     "data": {
      "text/plain": [
       "{'neg': 0.0, 'neu': 1.0, 'pos': 0.0, 'compound': 0.0}"
      ]
     },
     "execution_count": 31,
     "metadata": {},
     "output_type": "execute_result"
    }
   ],
   "source": [
    "analyzer.polarity_scores(test_data[0])"
   ]
  },
  {
   "cell_type": "code",
   "execution_count": null,
   "id": "17ba3d76-5f40-405f-a636-27bb24e04bc9",
   "metadata": {},
   "outputs": [],
   "source": []
  },
  {
   "cell_type": "code",
   "execution_count": 35,
   "id": "9533c068-29d1-4398-82c4-a1a0cf6c39c5",
   "metadata": {},
   "outputs": [],
   "source": [
    "pred = []\n",
    "for s in test_data:\n",
    "    scores = analyzer.polarity_scores(s)\n",
    "    if scores['compound'] >= 0:\n",
    "        pred.append(1)\n",
    "    else:\n",
    "        pred.append(-1)"
   ]
  },
  {
   "cell_type": "code",
   "execution_count": 36,
   "id": "108823f7-46ee-41a1-bed5-504805f69cff",
   "metadata": {},
   "outputs": [],
   "source": [
    "pred_dict = {'Id': range(1, 1+len(pred)), 'Prediction': pred}"
   ]
  },
  {
   "cell_type": "code",
   "execution_count": 37,
   "id": "5b42c113-1406-44d0-9ae6-424a98e57358",
   "metadata": {},
   "outputs": [],
   "source": [
    "pred_df = DataFrame(pred_dict)"
   ]
  },
  {
   "cell_type": "code",
   "execution_count": 38,
   "id": "cc1e8610-45d2-4b81-b079-88bc9659523e",
   "metadata": {},
   "outputs": [],
   "source": [
    "pred_df.to_csv('./vader_pure.csv', index=False)"
   ]
  },
  {
   "cell_type": "code",
   "execution_count": null,
   "id": "af748955-5b32-425b-8a5d-230bb859a81c",
   "metadata": {},
   "outputs": [],
   "source": [
    "# <0.7 on test set"
   ]
  }
 ],
 "metadata": {
  "kernelspec": {
   "display_name": "CIL",
   "language": "python",
   "name": "cil"
  },
  "language_info": {
   "codemirror_mode": {
    "name": "ipython",
    "version": 3
   },
   "file_extension": ".py",
   "mimetype": "text/x-python",
   "name": "python",
   "nbconvert_exporter": "python",
   "pygments_lexer": "ipython3",
   "version": "3.8.10"
  }
 },
 "nbformat": 4,
 "nbformat_minor": 5
}
