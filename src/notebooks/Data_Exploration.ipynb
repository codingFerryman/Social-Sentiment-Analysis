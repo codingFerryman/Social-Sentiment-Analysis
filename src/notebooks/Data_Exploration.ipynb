{
 "cells": [
  {
   "cell_type": "code",
   "execution_count": 1,
   "metadata": {},
   "outputs": [],
   "source": [
    "from pathlib import Path, PurePath\n",
    "import git\n",
    "import random\n",
    "from typing import List\n",
    "from collections import Counter\n",
    "\n",
    "import pandas as pd\n",
    "\n",
    "from matplotlib import pyplot as plt "
   ]
  },
  {
   "cell_type": "code",
   "execution_count": 2,
   "metadata": {},
   "outputs": [
    {
     "name": "stdout",
     "output_type": "stream",
     "text": [
      "1250000 1250000 10000\n"
     ]
    }
   ],
   "source": [
    "# load datasets\n",
    "if 'google.colab' not in str(get_ipython()):\n",
    "    use_fp16 = False\n",
    "    PROJECT_ROOT = git.Repo(PurePath(), search_parent_directories=True).git.rev_parse(\"--show-toplevel\")\n",
    "    DATA_ROOT = PurePath(PROJECT_ROOT, \"data\")\n",
    "else:\n",
    "    from google.colab import drive\n",
    "    use_fp16 = True\n",
    "    drive.mount('/content/drive')\n",
    "    PROJECT_ROOT = PurePath('')\n",
    "    DATA_ROOT = Path('/content/drive/MyDrive/twitter-datasets')\n",
    "\n",
    "\n",
    "with open(PurePath(DATA_ROOT, 'train_pos.txt'), 'r', encoding='utf-8') as fp:\n",
    "    train_pos_sub = fp.readlines()\n",
    "\n",
    "with open(PurePath(DATA_ROOT, 'train_neg.txt'), 'r', encoding='utf-8') as fp:\n",
    "    train_neg_sub = fp.readlines()\n",
    "\n",
    "with open(PurePath(DATA_ROOT, 'train_pos_full.txt'), 'r', encoding='utf-8') as fp:\n",
    "    train_pos_full = fp.readlines()\n",
    "\n",
    "with open(PurePath(DATA_ROOT, 'train_neg_full.txt'), 'r', encoding='utf-8') as fp:\n",
    "    train_neg_full = fp.readlines()\n",
    "\n",
    "with open(PurePath(DATA_ROOT, 'test_data.txt'), 'r', encoding='utf-8') as fp:\n",
    "    test_full = fp.readlines()\n",
    "\n",
    "def load_dataset(ratio=0.01):\n",
    "    if type(ratio) is int:\n",
    "        ratio = float(ratio)\n",
    "    assert isinstance(ratio, str) or isinstance(ratio, float)\n",
    "    if type(ratio) is float:\n",
    "        if ratio <= 0 or ratio > 1:\n",
    "            raise AttributeError('The input should be \\'full\\', \\'sub\\', or a (float) number between 0 and 1')\n",
    "        num_samples = int(ratio*len(train_pos_full))\n",
    "        return random.sample(train_pos_full, num_samples), random.sample(train_neg_full, num_samples)\n",
    "    else:\n",
    "        if ratio == 'full':\n",
    "            return train_pos_full, train_neg_full\n",
    "        elif ratio == 'sub':\n",
    "            return train_pos_sub, train_neg_sub\n",
    "        else:\n",
    "            raise AttributeError('The input should be \\'full\\', \\'sub\\', or a (float) number between 0 and 1')\n",
    "\n",
    "data_pos, data_neg = load_dataset(1)\n",
    "print(len(data_pos), len(data_neg), len(test_full))"
   ]
  },
  {
   "cell_type": "markdown",
   "metadata": {},
   "source": [
    "# Hashtag Exploration"
   ]
  },
  {
   "cell_type": "code",
   "execution_count": 3,
   "metadata": {},
   "outputs": [],
   "source": [
    "def extract_hashtag(text_list: list) -> List:\n",
    "    hashtag_list = []\n",
    "    sentence_count = 0\n",
    "    for text in text_list:\n",
    "        for word in text.split():\n",
    "            if word[0] == '#':\n",
    "                hashtag = word[1:]\n",
    "                if len(hashtag) != 0:\n",
    "                    if '#' in hashtag:\n",
    "                        hashtag = hashtag.replace('#', '')                        \n",
    "                    hashtag_list.append(hashtag)\n",
    "                    sentence_count += 1\n",
    "    return hashtag_list, sentence_count\n"
   ]
  },
  {
   "cell_type": "code",
   "execution_count": 4,
   "metadata": {},
   "outputs": [],
   "source": [
    "hashtag_pos, hashtag_pos_sentence_count = extract_hashtag(data_pos)\n",
    "hashtag_neg, hashtag_neg_sentence_count = extract_hashtag(data_neg)\n",
    "hashtag_test, hashtag_test_sentence_count = extract_hashtag(test_full)"
   ]
  },
  {
   "cell_type": "code",
   "execution_count": 5,
   "metadata": {},
   "outputs": [],
   "source": [
    "hashtag_pos_count = Counter(hashtag_pos)\n",
    "hashtag_pos_count = sorted(hashtag_pos_count.items(), key=lambda x: x[1], reverse=True)\n",
    "\n",
    "hashtag_neg_count = Counter(hashtag_neg)\n",
    "hashtag_neg_count = sorted(hashtag_neg_count.items(), key=lambda x: x[1], reverse=True)\n",
    "\n",
    "hashtag_test_count = Counter(hashtag_test)\n",
    "hashtag_test_count = sorted(hashtag_test_count.items(), key=lambda x: x[1], reverse=True)\n"
   ]
  },
  {
   "cell_type": "code",
   "execution_count": 6,
   "metadata": {},
   "outputs": [
    {
     "name": "stdout",
     "output_type": "stream",
     "text": [
      "Positive hashtagged sentences:  17.08776 %\n",
      "Negative hashtagged sentences:  11.11048 %\n",
      "Hashtagged sentences in the test set:  13.01 %\n"
     ]
    }
   ],
   "source": [
    "hashtag_ratio_pos = 100 * hashtag_pos_sentence_count / len(data_pos)\n",
    "hashtag_ratio_neg = 100 * hashtag_neg_sentence_count / len(data_neg)\n",
    "hashtag_ratio_test = 100 * hashtag_test_sentence_count / len(test_full)\n",
    "print(\"Positive hashtagged sentences:  \" + str(hashtag_ratio_pos) + \" %\")\n",
    "print(\"Negative hashtagged sentences:  \" + str(hashtag_ratio_neg) + \" %\")\n",
    "print(\"Hashtagged sentences in the test set:  \" + str(hashtag_ratio_test) + \" %\")\n"
   ]
  },
  {
   "cell_type": "code",
   "execution_count": 7,
   "metadata": {},
   "outputs": [],
   "source": [
    "pos_df = pd.DataFrame(hashtag_pos_count, columns=['Hashtag', 'PosFreq']).set_index('Hashtag')\n",
    "neg_df = pd.DataFrame(hashtag_neg_count, columns=['Hashtag', 'NegFreq']).set_index('Hashtag')"
   ]
  },
  {
   "cell_type": "code",
   "execution_count": 8,
   "metadata": {},
   "outputs": [
    {
     "data": {
      "text/plain": [
       "True"
      ]
     },
     "execution_count": 8,
     "metadata": {},
     "output_type": "execute_result"
    }
   ],
   "source": [
    "bool(set(pos_df.index) & set(neg_df.index))"
   ]
  },
  {
   "cell_type": "code",
   "execution_count": 9,
   "metadata": {},
   "outputs": [
    {
     "data": {
      "text/html": [
       "<div>\n",
       "<style scoped>\n",
       "    .dataframe tbody tr th:only-of-type {\n",
       "        vertical-align: middle;\n",
       "    }\n",
       "\n",
       "    .dataframe tbody tr th {\n",
       "        vertical-align: top;\n",
       "    }\n",
       "\n",
       "    .dataframe thead th {\n",
       "        text-align: right;\n",
       "    }\n",
       "</style>\n",
       "<table border=\"1\" class=\"dataframe\">\n",
       "  <thead>\n",
       "    <tr style=\"text-align: right;\">\n",
       "      <th></th>\n",
       "      <th>PosFreq</th>\n",
       "      <th>NegFreq</th>\n",
       "    </tr>\n",
       "  </thead>\n",
       "  <tbody>\n",
       "    <tr>\n",
       "      <th>count</th>\n",
       "      <td>114899.000000</td>\n",
       "      <td>114899.000000</td>\n",
       "    </tr>\n",
       "    <tr>\n",
       "      <th>mean</th>\n",
       "      <td>1.858998</td>\n",
       "      <td>1.208722</td>\n",
       "    </tr>\n",
       "    <tr>\n",
       "      <th>std</th>\n",
       "      <td>23.685502</td>\n",
       "      <td>11.538906</td>\n",
       "    </tr>\n",
       "    <tr>\n",
       "      <th>min</th>\n",
       "      <td>0.000000</td>\n",
       "      <td>0.000000</td>\n",
       "    </tr>\n",
       "    <tr>\n",
       "      <th>25%</th>\n",
       "      <td>0.000000</td>\n",
       "      <td>0.000000</td>\n",
       "    </tr>\n",
       "    <tr>\n",
       "      <th>50%</th>\n",
       "      <td>1.000000</td>\n",
       "      <td>0.000000</td>\n",
       "    </tr>\n",
       "    <tr>\n",
       "      <th>75%</th>\n",
       "      <td>1.000000</td>\n",
       "      <td>1.000000</td>\n",
       "    </tr>\n",
       "    <tr>\n",
       "      <th>max</th>\n",
       "      <td>4149.000000</td>\n",
       "      <td>1771.000000</td>\n",
       "    </tr>\n",
       "  </tbody>\n",
       "</table>\n",
       "</div>"
      ],
      "text/plain": [
       "             PosFreq        NegFreq\n",
       "count  114899.000000  114899.000000\n",
       "mean        1.858998       1.208722\n",
       "std        23.685502      11.538906\n",
       "min         0.000000       0.000000\n",
       "25%         0.000000       0.000000\n",
       "50%         1.000000       0.000000\n",
       "75%         1.000000       1.000000\n",
       "max      4149.000000    1771.000000"
      ]
     },
     "execution_count": 9,
     "metadata": {},
     "output_type": "execute_result"
    }
   ],
   "source": [
    "full_df = pos_df.join(neg_df, how='outer').fillna(0)\n",
    "full_df.describe()"
   ]
  },
  {
   "cell_type": "code",
   "execution_count": 10,
   "metadata": {},
   "outputs": [
    {
     "name": "stdout",
     "output_type": "stream",
     "text": [
      "<class 'pandas.core.frame.DataFrame'>\n",
      "Index: 114899 entries, 0-15 to zzz-ing\n",
      "Data columns (total 2 columns):\n",
      " #   Column   Non-Null Count   Dtype  \n",
      "---  ------   --------------   -----  \n",
      " 0   PosFreq  114899 non-null  float64\n",
      " 1   NegFreq  114899 non-null  float64\n",
      "dtypes: float64(2)\n",
      "memory usage: 2.6+ MB\n"
     ]
    }
   ],
   "source": [
    "full_df.info()"
   ]
  },
  {
   "cell_type": "code",
   "execution_count": 11,
   "metadata": {},
   "outputs": [],
   "source": [
    "full_df['PosRatio'] =  full_df['PosFreq'] / (full_df['PosFreq'] + full_df['NegFreq'])\n",
    "full_df['NegRatio'] =  1 - full_df['PosRatio']"
   ]
  },
  {
   "cell_type": "code",
   "execution_count": 12,
   "metadata": {},
   "outputs": [
    {
     "data": {
      "text/html": [
       "<div>\n",
       "<style scoped>\n",
       "    .dataframe tbody tr th:only-of-type {\n",
       "        vertical-align: middle;\n",
       "    }\n",
       "\n",
       "    .dataframe tbody tr th {\n",
       "        vertical-align: top;\n",
       "    }\n",
       "\n",
       "    .dataframe thead th {\n",
       "        text-align: right;\n",
       "    }\n",
       "</style>\n",
       "<table border=\"1\" class=\"dataframe\">\n",
       "  <thead>\n",
       "    <tr style=\"text-align: right;\">\n",
       "      <th></th>\n",
       "      <th>PosFreq</th>\n",
       "      <th>NegFreq</th>\n",
       "      <th>PosRatio</th>\n",
       "      <th>NegRatio</th>\n",
       "    </tr>\n",
       "  </thead>\n",
       "  <tbody>\n",
       "    <tr>\n",
       "      <th>count</th>\n",
       "      <td>114899.000000</td>\n",
       "      <td>114899.000000</td>\n",
       "      <td>114899.000000</td>\n",
       "      <td>114899.000000</td>\n",
       "    </tr>\n",
       "    <tr>\n",
       "      <th>mean</th>\n",
       "      <td>1.858998</td>\n",
       "      <td>1.208722</td>\n",
       "      <td>0.599729</td>\n",
       "      <td>0.400271</td>\n",
       "    </tr>\n",
       "    <tr>\n",
       "      <th>std</th>\n",
       "      <td>23.685502</td>\n",
       "      <td>11.538906</td>\n",
       "      <td>0.469365</td>\n",
       "      <td>0.469365</td>\n",
       "    </tr>\n",
       "    <tr>\n",
       "      <th>min</th>\n",
       "      <td>0.000000</td>\n",
       "      <td>0.000000</td>\n",
       "      <td>0.000000</td>\n",
       "      <td>0.000000</td>\n",
       "    </tr>\n",
       "    <tr>\n",
       "      <th>25%</th>\n",
       "      <td>0.000000</td>\n",
       "      <td>0.000000</td>\n",
       "      <td>0.000000</td>\n",
       "      <td>0.000000</td>\n",
       "    </tr>\n",
       "    <tr>\n",
       "      <th>50%</th>\n",
       "      <td>1.000000</td>\n",
       "      <td>0.000000</td>\n",
       "      <td>1.000000</td>\n",
       "      <td>0.000000</td>\n",
       "    </tr>\n",
       "    <tr>\n",
       "      <th>75%</th>\n",
       "      <td>1.000000</td>\n",
       "      <td>1.000000</td>\n",
       "      <td>1.000000</td>\n",
       "      <td>1.000000</td>\n",
       "    </tr>\n",
       "    <tr>\n",
       "      <th>max</th>\n",
       "      <td>4149.000000</td>\n",
       "      <td>1771.000000</td>\n",
       "      <td>1.000000</td>\n",
       "      <td>1.000000</td>\n",
       "    </tr>\n",
       "  </tbody>\n",
       "</table>\n",
       "</div>"
      ],
      "text/plain": [
       "             PosFreq        NegFreq       PosRatio       NegRatio\n",
       "count  114899.000000  114899.000000  114899.000000  114899.000000\n",
       "mean        1.858998       1.208722       0.599729       0.400271\n",
       "std        23.685502      11.538906       0.469365       0.469365\n",
       "min         0.000000       0.000000       0.000000       0.000000\n",
       "25%         0.000000       0.000000       0.000000       0.000000\n",
       "50%         1.000000       0.000000       1.000000       0.000000\n",
       "75%         1.000000       1.000000       1.000000       1.000000\n",
       "max      4149.000000    1771.000000       1.000000       1.000000"
      ]
     },
     "execution_count": 12,
     "metadata": {},
     "output_type": "execute_result"
    }
   ],
   "source": [
    "full_df.describe()"
   ]
  },
  {
   "cell_type": "code",
   "execution_count": 13,
   "metadata": {},
   "outputs": [
    {
     "data": {
      "text/plain": [
       "array([[<AxesSubplot:title={'center':'PosFreq'}>,\n",
       "        <AxesSubplot:title={'center':'NegFreq'}>],\n",
       "       [<AxesSubplot:title={'center':'PosRatio'}>,\n",
       "        <AxesSubplot:title={'center':'NegRatio'}>]], dtype=object)"
      ]
     },
     "execution_count": 13,
     "metadata": {},
     "output_type": "execute_result"
    },
    {
     "data": {
      "image/png": "[encoded data removed]",
      "text/plain": [
       "<Figure size 1800x720 with 4 Axes>"
      ]
     },
     "metadata": {
      "needs_background": "light"
     },
     "output_type": "display_data"
    }
   ],
   "source": [
    "full_df.hist(bins=20, figsize=(25,10))"
   ]
  },
  {
   "cell_type": "code",
   "execution_count": 32,
   "metadata": {},
   "outputs": [
    {
     "data": {
      "text/html": [
       "<div>\n",
       "<style scoped>\n",
       "    .dataframe tbody tr th:only-of-type {\n",
       "        vertical-align: middle;\n",
       "    }\n",
       "\n",
       "    .dataframe tbody tr th {\n",
       "        vertical-align: top;\n",
       "    }\n",
       "\n",
       "    .dataframe thead th {\n",
       "        text-align: right;\n",
       "    }\n",
       "</style>\n",
       "<table border=\"1\" class=\"dataframe\">\n",
       "  <thead>\n",
       "    <tr style=\"text-align: right;\">\n",
       "      <th></th>\n",
       "      <th>PosFreq</th>\n",
       "      <th>NegFreq</th>\n",
       "      <th>PosRatio</th>\n",
       "      <th>NegRatio</th>\n",
       "    </tr>\n",
       "  </thead>\n",
       "  <tbody>\n",
       "    <tr>\n",
       "      <th>count</th>\n",
       "      <td>244.000000</td>\n",
       "      <td>244.000000</td>\n",
       "      <td>244.000000</td>\n",
       "      <td>244.000000</td>\n",
       "    </tr>\n",
       "    <tr>\n",
       "      <th>mean</th>\n",
       "      <td>237.659836</td>\n",
       "      <td>128.569672</td>\n",
       "      <td>0.584393</td>\n",
       "      <td>0.415607</td>\n",
       "    </tr>\n",
       "    <tr>\n",
       "      <th>std</th>\n",
       "      <td>448.695882</td>\n",
       "      <td>203.225045</td>\n",
       "      <td>0.382221</td>\n",
       "      <td>0.382221</td>\n",
       "    </tr>\n",
       "    <tr>\n",
       "      <th>min</th>\n",
       "      <td>0.000000</td>\n",
       "      <td>0.000000</td>\n",
       "      <td>0.000000</td>\n",
       "      <td>0.000000</td>\n",
       "    </tr>\n",
       "    <tr>\n",
       "      <th>25%</th>\n",
       "      <td>20.750000</td>\n",
       "      <td>19.000000</td>\n",
       "      <td>0.105221</td>\n",
       "      <td>0.077572</td>\n",
       "    </tr>\n",
       "    <tr>\n",
       "      <th>50%</th>\n",
       "      <td>129.500000</td>\n",
       "      <td>81.500000</td>\n",
       "      <td>0.764305</td>\n",
       "      <td>0.235695</td>\n",
       "    </tr>\n",
       "    <tr>\n",
       "      <th>75%</th>\n",
       "      <td>241.250000</td>\n",
       "      <td>167.250000</td>\n",
       "      <td>0.922428</td>\n",
       "      <td>0.894779</td>\n",
       "    </tr>\n",
       "    <tr>\n",
       "      <th>max</th>\n",
       "      <td>4149.000000</td>\n",
       "      <td>1771.000000</td>\n",
       "      <td>1.000000</td>\n",
       "      <td>1.000000</td>\n",
       "    </tr>\n",
       "  </tbody>\n",
       "</table>\n",
       "</div>"
      ],
      "text/plain": [
       "           PosFreq      NegFreq    PosRatio    NegRatio\n",
       "count   244.000000   244.000000  244.000000  244.000000\n",
       "mean    237.659836   128.569672    0.584393    0.415607\n",
       "std     448.695882   203.225045    0.382221    0.382221\n",
       "min       0.000000     0.000000    0.000000    0.000000\n",
       "25%      20.750000    19.000000    0.105221    0.077572\n",
       "50%     129.500000    81.500000    0.764305    0.235695\n",
       "75%     241.250000   167.250000    0.922428    0.894779\n",
       "max    4149.000000  1771.000000    1.000000    1.000000"
      ]
     },
     "execution_count": 32,
     "metadata": {},
     "output_type": "execute_result"
    }
   ],
   "source": [
    "full_df_highfreq = full_df[(full_df.PosFreq>100) | (full_df.NegFreq>100)]\n",
    "full_df_highfreq.describe()"
   ]
  },
  {
   "cell_type": "code",
   "execution_count": 33,
   "metadata": {},
   "outputs": [
    {
     "data": {
      "text/html": [
       "<div>\n",
       "<style scoped>\n",
       "    .dataframe tbody tr th:only-of-type {\n",
       "        vertical-align: middle;\n",
       "    }\n",
       "\n",
       "    .dataframe tbody tr th {\n",
       "        vertical-align: top;\n",
       "    }\n",
       "\n",
       "    .dataframe thead th {\n",
       "        text-align: right;\n",
       "    }\n",
       "</style>\n",
       "<table border=\"1\" class=\"dataframe\">\n",
       "  <thead>\n",
       "    <tr style=\"text-align: right;\">\n",
       "      <th></th>\n",
       "      <th>PosFreq</th>\n",
       "      <th>NegFreq</th>\n",
       "      <th>PosRatio</th>\n",
       "      <th>NegRatio</th>\n",
       "    </tr>\n",
       "    <tr>\n",
       "      <th>Hashtag</th>\n",
       "      <th></th>\n",
       "      <th></th>\n",
       "      <th></th>\n",
       "      <th></th>\n",
       "    </tr>\n",
       "  </thead>\n",
       "  <tbody>\n",
       "    <tr>\n",
       "      <th>10</th>\n",
       "      <td>31.0</td>\n",
       "      <td>214.0</td>\n",
       "      <td>0.126531</td>\n",
       "      <td>0.873469</td>\n",
       "    </tr>\n",
       "    <tr>\n",
       "      <th>1dfamily</th>\n",
       "      <td>306.0</td>\n",
       "      <td>95.0</td>\n",
       "      <td>0.763092</td>\n",
       "      <td>0.236908</td>\n",
       "    </tr>\n",
       "    <tr>\n",
       "      <th>askzacefron</th>\n",
       "      <td>289.0</td>\n",
       "      <td>9.0</td>\n",
       "      <td>0.969799</td>\n",
       "      <td>0.030201</td>\n",
       "    </tr>\n",
       "    <tr>\n",
       "      <th>believe</th>\n",
       "      <td>699.0</td>\n",
       "      <td>358.0</td>\n",
       "      <td>0.661306</td>\n",
       "      <td>0.338694</td>\n",
       "    </tr>\n",
       "    <tr>\n",
       "      <th>bestfriend</th>\n",
       "      <td>120.0</td>\n",
       "      <td>38.0</td>\n",
       "      <td>0.759494</td>\n",
       "      <td>0.240506</td>\n",
       "    </tr>\n",
       "    <tr>\n",
       "      <th>...</th>\n",
       "      <td>...</td>\n",
       "      <td>...</td>\n",
       "      <td>...</td>\n",
       "      <td>...</td>\n",
       "    </tr>\n",
       "    <tr>\n",
       "      <th>yay</th>\n",
       "      <td>235.0</td>\n",
       "      <td>32.0</td>\n",
       "      <td>0.880150</td>\n",
       "      <td>0.119850</td>\n",
       "    </tr>\n",
       "    <tr>\n",
       "      <th>yolo</th>\n",
       "      <td>552.0</td>\n",
       "      <td>146.0</td>\n",
       "      <td>0.790831</td>\n",
       "      <td>0.209169</td>\n",
       "    </tr>\n",
       "    <tr>\n",
       "      <th>yougetmajorpoints</th>\n",
       "      <td>558.0</td>\n",
       "      <td>2.0</td>\n",
       "      <td>0.996429</td>\n",
       "      <td>0.003571</td>\n",
       "    </tr>\n",
       "    <tr>\n",
       "      <th>yougetmajorpointsif</th>\n",
       "      <td>3367.0</td>\n",
       "      <td>13.0</td>\n",
       "      <td>0.996154</td>\n",
       "      <td>0.003846</td>\n",
       "    </tr>\n",
       "    <tr>\n",
       "      <th>yum</th>\n",
       "      <td>127.0</td>\n",
       "      <td>23.0</td>\n",
       "      <td>0.846667</td>\n",
       "      <td>0.153333</td>\n",
       "    </tr>\n",
       "  </tbody>\n",
       "</table>\n",
       "<p>121 rows × 4 columns</p>\n",
       "</div>"
      ],
      "text/plain": [
       "                     PosFreq  NegFreq  PosRatio  NegRatio\n",
       "Hashtag                                                  \n",
       "10                      31.0    214.0  0.126531  0.873469\n",
       "1dfamily               306.0     95.0  0.763092  0.236908\n",
       "askzacefron            289.0      9.0  0.969799  0.030201\n",
       "believe                699.0    358.0  0.661306  0.338694\n",
       "bestfriend             120.0     38.0  0.759494  0.240506\n",
       "...                      ...      ...       ...       ...\n",
       "yay                    235.0     32.0  0.880150  0.119850\n",
       "yolo                   552.0    146.0  0.790831  0.209169\n",
       "yougetmajorpoints      558.0      2.0  0.996429  0.003571\n",
       "yougetmajorpointsif   3367.0     13.0  0.996154  0.003846\n",
       "yum                    127.0     23.0  0.846667  0.153333\n",
       "\n",
       "[121 rows x 4 columns]"
      ]
     },
     "execution_count": 33,
     "metadata": {},
     "output_type": "execute_result"
    }
   ],
   "source": [
    "matched_df = full_df_highfreq[full_df_highfreq.index.isin(hashtag_test)]\n",
    "matched_df"
   ]
  },
  {
   "cell_type": "code",
   "execution_count": 34,
   "metadata": {},
   "outputs": [
    {
     "data": {
      "text/html": [
       "<div>\n",
       "<style scoped>\n",
       "    .dataframe tbody tr th:only-of-type {\n",
       "        vertical-align: middle;\n",
       "    }\n",
       "\n",
       "    .dataframe tbody tr th {\n",
       "        vertical-align: top;\n",
       "    }\n",
       "\n",
       "    .dataframe thead th {\n",
       "        text-align: right;\n",
       "    }\n",
       "</style>\n",
       "<table border=\"1\" class=\"dataframe\">\n",
       "  <thead>\n",
       "    <tr style=\"text-align: right;\">\n",
       "      <th></th>\n",
       "      <th>PosFreq</th>\n",
       "      <th>NegFreq</th>\n",
       "      <th>PosRatio</th>\n",
       "      <th>NegRatio</th>\n",
       "    </tr>\n",
       "  </thead>\n",
       "  <tbody>\n",
       "    <tr>\n",
       "      <th>count</th>\n",
       "      <td>121.000000</td>\n",
       "      <td>121.000000</td>\n",
       "      <td>121.000000</td>\n",
       "      <td>121.000000</td>\n",
       "    </tr>\n",
       "    <tr>\n",
       "      <th>mean</th>\n",
       "      <td>324.371901</td>\n",
       "      <td>165.694215</td>\n",
       "      <td>0.572849</td>\n",
       "      <td>0.427151</td>\n",
       "    </tr>\n",
       "    <tr>\n",
       "      <th>std</th>\n",
       "      <td>605.184037</td>\n",
       "      <td>258.172838</td>\n",
       "      <td>0.368941</td>\n",
       "      <td>0.368941</td>\n",
       "    </tr>\n",
       "    <tr>\n",
       "      <th>min</th>\n",
       "      <td>0.000000</td>\n",
       "      <td>0.000000</td>\n",
       "      <td>0.000000</td>\n",
       "      <td>0.000000</td>\n",
       "    </tr>\n",
       "    <tr>\n",
       "      <th>25%</th>\n",
       "      <td>31.000000</td>\n",
       "      <td>27.000000</td>\n",
       "      <td>0.130952</td>\n",
       "      <td>0.109524</td>\n",
       "    </tr>\n",
       "    <tr>\n",
       "      <th>50%</th>\n",
       "      <td>166.000000</td>\n",
       "      <td>113.000000</td>\n",
       "      <td>0.738516</td>\n",
       "      <td>0.261484</td>\n",
       "    </tr>\n",
       "    <tr>\n",
       "      <th>75%</th>\n",
       "      <td>306.000000</td>\n",
       "      <td>192.000000</td>\n",
       "      <td>0.890476</td>\n",
       "      <td>0.869048</td>\n",
       "    </tr>\n",
       "    <tr>\n",
       "      <th>max</th>\n",
       "      <td>4149.000000</td>\n",
       "      <td>1771.000000</td>\n",
       "      <td>1.000000</td>\n",
       "      <td>1.000000</td>\n",
       "    </tr>\n",
       "  </tbody>\n",
       "</table>\n",
       "</div>"
      ],
      "text/plain": [
       "           PosFreq      NegFreq    PosRatio    NegRatio\n",
       "count   121.000000   121.000000  121.000000  121.000000\n",
       "mean    324.371901   165.694215    0.572849    0.427151\n",
       "std     605.184037   258.172838    0.368941    0.368941\n",
       "min       0.000000     0.000000    0.000000    0.000000\n",
       "25%      31.000000    27.000000    0.130952    0.109524\n",
       "50%     166.000000   113.000000    0.738516    0.261484\n",
       "75%     306.000000   192.000000    0.890476    0.869048\n",
       "max    4149.000000  1771.000000    1.000000    1.000000"
      ]
     },
     "execution_count": 34,
     "metadata": {},
     "output_type": "execute_result"
    }
   ],
   "source": [
    "matched_df.describe()"
   ]
  },
  {
   "cell_type": "code",
   "execution_count": 44,
   "metadata": {},
   "outputs": [
    {
     "data": {
      "text/plain": [
       "array([[<AxesSubplot:title={'center':'PosFreq'}>,\n",
       "        <AxesSubplot:title={'center':'NegFreq'}>],\n",
       "       [<AxesSubplot:title={'center':'PosRatio'}>,\n",
       "        <AxesSubplot:title={'center':'NegRatio'}>]], dtype=object)"
      ]
     },
     "execution_count": 44,
     "metadata": {},
     "output_type": "execute_result"
    },
    {
     "data": {
      "image/png": "[encoded data removed]",
      "text/plain": [
       "<Figure size 1800x720 with 4 Axes>"
      ]
     },
     "metadata": {
      "needs_background": "light"
     },
     "output_type": "display_data"
    }
   ],
   "source": [
    "matched_pos = matched_df[matched_df.PosRatio>0.85]\n",
    "matched_pos.hist(bins=20, figsize=(25,10))"
   ]
  },
  {
   "cell_type": "code",
   "execution_count": 46,
   "metadata": {},
   "outputs": [
    {
     "data": {
      "text/plain": [
       "array([[<AxesSubplot:title={'center':'PosFreq'}>,\n",
       "        <AxesSubplot:title={'center':'NegFreq'}>],\n",
       "       [<AxesSubplot:title={'center':'PosRatio'}>,\n",
       "        <AxesSubplot:title={'center':'NegRatio'}>]], dtype=object)"
      ]
     },
     "execution_count": 46,
     "metadata": {},
     "output_type": "execute_result"
    },
    {
     "data": {
      "image/png": "[encoded data removed]",
      "text/plain": [
       "<Figure size 1800x720 with 4 Axes>"
      ]
     },
     "metadata": {
      "needs_background": "light"
     },
     "output_type": "display_data"
    }
   ],
   "source": [
    "matched_neg = matched_df[matched_df.NegRatio>0.85]\n",
    "matched_neg.hist(bins=20, figsize=(25,10))"
   ]
  },
  {
   "cell_type": "code",
   "execution_count": 47,
   "metadata": {},
   "outputs": [],
   "source": [
    "#TODO: Slang?"
   ]
  },
  {
   "cell_type": "markdown",
   "metadata": {},
   "source": [
    "# Length Exploration"
   ]
  },
  {
   "cell_type": "markdown",
   "metadata": {},
   "source": [
    "# PoS Exploration"
   ]
  },
  {
   "cell_type": "markdown",
   "metadata": {},
   "source": [
    "# Consecutive Repeating Words Exploration"
   ]
  }
 ],
 "metadata": {
  "interpreter": {
   "hash": "10e8cd3db9af619636183193d03796976e9bfe2b677e014039b52324af88f919"
  },
  "kernelspec": {
   "display_name": "Python 3.8.10 64-bit ('CIL': conda)",
   "name": "python3"
  },
  "language_info": {
   "codemirror_mode": {
    "name": "ipython",
    "version": 3
   },
   "file_extension": ".py",
   "mimetype": "text/x-python",
   "name": "python",
   "nbconvert_exporter": "python",
   "pygments_lexer": "ipython3",
   "version": "3.8.10"
  },
  "orig_nbformat": 2
 },
 "nbformat": 4,
 "nbformat_minor": 2
}