{
 "cells": [
  {
   "cell_type": "code",
   "execution_count": 2,
   "metadata": {},
   "outputs": [],
   "source": [
    "from pathlib import Path, PurePath\n",
    "import git\n",
    "import random\n",
    "from typing import List\n",
    "from collections import Counter\n",
    "\n",
    "import pandas as pd\n",
    "\n",
    "from matplotlib import pyplot as plt "
   ]
  },
  {
   "cell_type": "code",
   "execution_count": 3,
   "metadata": {},
   "outputs": [
    {
     "name": "stdout",
     "output_type": "stream",
     "text": [
      "1250000 1250000 10000\n"
     ]
    }
   ],
   "source": [
    "# load datasets\n",
    "if 'google.colab' not in str(get_ipython()):\n",
    "    use_fp16 = False\n",
    "    PROJECT_ROOT = git.Repo(PurePath(), search_parent_directories=True).git.rev_parse(\"--show-toplevel\")\n",
    "    DATA_ROOT = PurePath(PROJECT_ROOT, \"data\")\n",
    "else:\n",
    "    from google.colab import drive\n",
    "    use_fp16 = True\n",
    "    drive.mount('/content/drive')\n",
    "    PROJECT_ROOT = PurePath('')\n",
    "    DATA_ROOT = Path('/content/drive/MyDrive/twitter-datasets')\n",
    "\n",
    "\n",
    "with open(PurePath(DATA_ROOT, 'train_pos.txt'), 'r', encoding='utf-8') as fp:\n",
    "    train_pos_sub = fp.readlines()\n",
    "\n",
    "with open(PurePath(DATA_ROOT, 'train_neg.txt'), 'r', encoding='utf-8') as fp:\n",
    "    train_neg_sub = fp.readlines()\n",
    "\n",
    "with open(PurePath(DATA_ROOT, 'train_pos_full.txt'), 'r', encoding='utf-8') as fp:\n",
    "    train_pos_full = fp.readlines()\n",
    "\n",
    "with open(PurePath(DATA_ROOT, 'train_neg_full.txt'), 'r', encoding='utf-8') as fp:\n",
    "    train_neg_full = fp.readlines()\n",
    "\n",
    "with open(PurePath(DATA_ROOT, 'test_data.txt'), 'r', encoding='utf-8') as fp:\n",
    "    test_full = fp.readlines()\n",
    "\n",
    "def load_dataset(ratio=0.01):\n",
    "    if type(ratio) is int:\n",
    "        ratio = float(ratio)\n",
    "    assert isinstance(ratio, str) or isinstance(ratio, float)\n",
    "    if type(ratio) is float:\n",
    "        if ratio <= 0 or ratio > 1:\n",
    "            raise AttributeError('The input should be \\'full\\', \\'sub\\', or a (float) number between 0 and 1')\n",
    "        num_samples = int(ratio*len(train_pos_full))\n",
    "        return random.sample(train_pos_full, num_samples), random.sample(train_neg_full, num_samples)\n",
    "    else:\n",
    "        if ratio == 'full':\n",
    "            return train_pos_full, train_neg_full\n",
    "        elif ratio == 'sub':\n",
    "            return train_pos_sub, train_neg_sub\n",
    "        else:\n",
    "            raise AttributeError('The input should be \\'full\\', \\'sub\\', or a (float) number between 0 and 1')\n",
    "\n",
    "data_pos, data_neg = load_dataset(1)\n",
    "print(len(data_pos), len(data_neg), len(test_full))"
   ]
  },
  {
   "cell_type": "markdown",
   "metadata": {},
   "source": [
    "# Hashtag Exploration"
   ]
  },
  {
   "cell_type": "code",
   "execution_count": 4,
   "metadata": {},
   "outputs": [],
   "source": [
    "def extract_hashtag(text_list: list) -> List:\n",
    "    hashtag_list = []\n",
    "    sentence_count = 0\n",
    "    for text in text_list:\n",
    "        for word in text.split():\n",
    "            if word[0] == '#':\n",
    "                hashtag = word[1:]\n",
    "                if len(hashtag) != 0:\n",
    "                    hashtag_list.append(hashtag)\n",
    "                    sentence_count += 1\n",
    "    return hashtag_list, sentence_count\n"
   ]
  },
  {
   "cell_type": "code",
   "execution_count": 5,
   "metadata": {},
   "outputs": [],
   "source": [
    "hashtag_pos, hashtag_pos_sentence_count = extract_hashtag(data_pos)\n",
    "hashtag_neg, hashtag_neg_sentence_count = extract_hashtag(data_neg)\n",
    "hashtag_test, hashtag_test_sentence_count = extract_hashtag(test_full)\n"
   ]
  },
  {
   "cell_type": "code",
   "execution_count": 6,
   "metadata": {},
   "outputs": [],
   "source": [
    "hashtag_pos_count = Counter(hashtag_pos)\n",
    "hashtag_pos_count = sorted(hashtag_pos_count.items(), key=lambda x: x[1], reverse=True)\n",
    "\n",
    "hashtag_neg_count = Counter(hashtag_neg)\n",
    "hashtag_neg_count = sorted(hashtag_neg_count.items(), key=lambda x: x[1], reverse=True)\n",
    "\n",
    "hashtag_test_count = Counter(hashtag_test)\n",
    "hashtag_test_count = sorted(hashtag_test_count.items(), key=lambda x: x[1], reverse=True)\n"
   ]
  },
  {
   "cell_type": "code",
   "execution_count": 7,
   "metadata": {},
   "outputs": [
    {
     "name": "stdout",
     "output_type": "stream",
     "text": [
      "Positive hashtagged sentences:  17.08776 %\n",
      "Negative hashtagged sentences:  11.11048 %\n",
      "Hashtagged sentences in the test set:  13.01 %\n"
     ]
    }
   ],
   "source": [
    "hashtag_ratio_pos = 100 * hashtag_pos_sentence_count / len(data_pos)\n",
    "hashtag_ratio_neg = 100 * hashtag_neg_sentence_count / len(data_neg)\n",
    "hashtag_ratio_test = 100 * hashtag_test_sentence_count / len(test_full)\n",
    "print(\"Positive hashtagged sentences:  \" + str(hashtag_ratio_pos) + \" %\")\n",
    "print(\"Negative hashtagged sentences:  \" + str(hashtag_ratio_neg) + \" %\")\n",
    "print(\"Hashtagged sentences in the test set:  \" + str(hashtag_ratio_test) + \" %\")\n"
   ]
  },
  {
   "cell_type": "code",
   "execution_count": 8,
   "metadata": {},
   "outputs": [],
   "source": [
    "pos_df = pd.DataFrame(hashtag_pos_count, columns=['Hashtag', 'PosFreq']).set_index('Hashtag')\n",
    "neg_df = pd.DataFrame(hashtag_neg_count, columns=['Hashtag', 'NegFreq']).set_index('Hashtag')"
   ]
  },
  {
   "cell_type": "code",
   "execution_count": 9,
   "metadata": {},
   "outputs": [],
   "source": [
    "full_df = pd.concat([pos_df, neg_df]).fillna(0)"
   ]
  },
  {
   "cell_type": "code",
   "execution_count": 10,
   "metadata": {},
   "outputs": [],
   "source": [
    "full_df['PosRatio'] =  full_df['PosFreq'] / (full_df['PosFreq'] + full_df['NegFreq'])\n",
    "full_df['NegRatio'] =  1 - full_df['PosRatio']"
   ]
  },
  {
   "cell_type": "code",
   "execution_count": 11,
   "metadata": {},
   "outputs": [
    {
     "data": {
      "text/html": [
       "<div>\n",
       "<style scoped>\n",
       "    .dataframe tbody tr th:only-of-type {\n",
       "        vertical-align: middle;\n",
       "    }\n",
       "\n",
       "    .dataframe tbody tr th {\n",
       "        vertical-align: top;\n",
       "    }\n",
       "\n",
       "    .dataframe thead th {\n",
       "        text-align: right;\n",
       "    }\n",
       "</style>\n",
       "<table border=\"1\" class=\"dataframe\">\n",
       "  <thead>\n",
       "    <tr style=\"text-align: right;\">\n",
       "      <th></th>\n",
       "      <th>PosFreq</th>\n",
       "      <th>NegFreq</th>\n",
       "      <th>PosRatio</th>\n",
       "      <th>NegRatio</th>\n",
       "    </tr>\n",
       "  </thead>\n",
       "  <tbody>\n",
       "    <tr>\n",
       "      <th>count</th>\n",
       "      <td>126261.000000</td>\n",
       "      <td>126261.000000</td>\n",
       "      <td>126261.000000</td>\n",
       "      <td>126261.000000</td>\n",
       "    </tr>\n",
       "    <tr>\n",
       "      <th>mean</th>\n",
       "      <td>1.691710</td>\n",
       "      <td>1.099952</td>\n",
       "      <td>0.586389</td>\n",
       "      <td>0.413611</td>\n",
       "    </tr>\n",
       "    <tr>\n",
       "      <th>std</th>\n",
       "      <td>22.597294</td>\n",
       "      <td>11.012325</td>\n",
       "      <td>0.492482</td>\n",
       "      <td>0.492482</td>\n",
       "    </tr>\n",
       "    <tr>\n",
       "      <th>min</th>\n",
       "      <td>0.000000</td>\n",
       "      <td>0.000000</td>\n",
       "      <td>0.000000</td>\n",
       "      <td>0.000000</td>\n",
       "    </tr>\n",
       "    <tr>\n",
       "      <th>25%</th>\n",
       "      <td>0.000000</td>\n",
       "      <td>0.000000</td>\n",
       "      <td>0.000000</td>\n",
       "      <td>0.000000</td>\n",
       "    </tr>\n",
       "    <tr>\n",
       "      <th>50%</th>\n",
       "      <td>1.000000</td>\n",
       "      <td>0.000000</td>\n",
       "      <td>1.000000</td>\n",
       "      <td>0.000000</td>\n",
       "    </tr>\n",
       "    <tr>\n",
       "      <th>75%</th>\n",
       "      <td>1.000000</td>\n",
       "      <td>1.000000</td>\n",
       "      <td>1.000000</td>\n",
       "      <td>1.000000</td>\n",
       "    </tr>\n",
       "    <tr>\n",
       "      <th>max</th>\n",
       "      <td>4147.000000</td>\n",
       "      <td>1771.000000</td>\n",
       "      <td>1.000000</td>\n",
       "      <td>1.000000</td>\n",
       "    </tr>\n",
       "  </tbody>\n",
       "</table>\n",
       "</div>"
      ],
      "text/plain": [
       "             PosFreq        NegFreq       PosRatio       NegRatio\n",
       "count  126261.000000  126261.000000  126261.000000  126261.000000\n",
       "mean        1.691710       1.099952       0.586389       0.413611\n",
       "std        22.597294      11.012325       0.492482       0.492482\n",
       "min         0.000000       0.000000       0.000000       0.000000\n",
       "25%         0.000000       0.000000       0.000000       0.000000\n",
       "50%         1.000000       0.000000       1.000000       0.000000\n",
       "75%         1.000000       1.000000       1.000000       1.000000\n",
       "max      4147.000000    1771.000000       1.000000       1.000000"
      ]
     },
     "execution_count": 11,
     "metadata": {},
     "output_type": "execute_result"
    }
   ],
   "source": [
    "full_df.describe()"
   ]
  },
  {
   "cell_type": "code",
   "execution_count": 12,
   "metadata": {},
   "outputs": [
    {
     "data": {
      "text/plain": [
       "(array([1., 0.]), array([0., 1.]))"
      ]
     },
     "execution_count": 12,
     "metadata": {},
     "output_type": "execute_result"
    }
   ],
   "source": [
    "full_df['PosRatio'].unique(), full_df['NegRatio'].unique()"
   ]
  },
  {
   "cell_type": "code",
   "execution_count": 13,
   "metadata": {},
   "outputs": [
    {
     "data": {
      "text/plain": [
       "<AxesSubplot:>"
      ]
     },
     "execution_count": 13,
     "metadata": {},
     "output_type": "execute_result"
    },
    {
     "data": {
      "image/png": "[encoded data removed]",
      "text/plain": [
       "<Figure size 1800x432 with 1 Axes>"
      ]
     },
     "metadata": {
      "needs_background": "light"
     },
     "output_type": "display_data"
    }
   ],
   "source": [
    "full_df[(full_df.PosFreq>100)].PosFreq.hist(bins=50, figsize=(25,6))"
   ]
  },
  {
   "cell_type": "code",
   "execution_count": 14,
   "metadata": {},
   "outputs": [
    {
     "data": {
      "text/plain": [
       "<AxesSubplot:>"
      ]
     },
     "execution_count": 14,
     "metadata": {},
     "output_type": "execute_result"
    },
    {
     "data": {
      "image/png": "[encoded data removed]",
      "text/plain": [
       "<Figure size 1800x432 with 1 Axes>"
      ]
     },
     "metadata": {
      "needs_background": "light"
     },
     "output_type": "display_data"
    }
   ],
   "source": [
    "full_df[(full_df.NegFreq>100)].NegFreq.hist(bins=50, figsize=(25,6))"
   ]
  },
  {
   "cell_type": "code",
   "execution_count": 15,
   "metadata": {},
   "outputs": [
    {
     "data": {
      "text/html": [
       "<div>\n",
       "<style scoped>\n",
       "    .dataframe tbody tr th:only-of-type {\n",
       "        vertical-align: middle;\n",
       "    }\n",
       "\n",
       "    .dataframe tbody tr th {\n",
       "        vertical-align: top;\n",
       "    }\n",
       "\n",
       "    .dataframe thead th {\n",
       "        text-align: right;\n",
       "    }\n",
       "</style>\n",
       "<table border=\"1\" class=\"dataframe\">\n",
       "  <thead>\n",
       "    <tr style=\"text-align: right;\">\n",
       "      <th></th>\n",
       "      <th>PosFreq</th>\n",
       "      <th>NegFreq</th>\n",
       "      <th>PosRatio</th>\n",
       "      <th>NegRatio</th>\n",
       "    </tr>\n",
       "  </thead>\n",
       "  <tbody>\n",
       "    <tr>\n",
       "      <th>count</th>\n",
       "      <td>276.000000</td>\n",
       "      <td>276.000000</td>\n",
       "      <td>276.000000</td>\n",
       "      <td>276.000000</td>\n",
       "    </tr>\n",
       "    <tr>\n",
       "      <th>mean</th>\n",
       "      <td>204.358696</td>\n",
       "      <td>100.355072</td>\n",
       "      <td>0.586957</td>\n",
       "      <td>0.413043</td>\n",
       "    </tr>\n",
       "    <tr>\n",
       "      <th>std</th>\n",
       "      <td>430.968227</td>\n",
       "      <td>200.846710</td>\n",
       "      <td>0.493275</td>\n",
       "      <td>0.493275</td>\n",
       "    </tr>\n",
       "    <tr>\n",
       "      <th>min</th>\n",
       "      <td>0.000000</td>\n",
       "      <td>0.000000</td>\n",
       "      <td>0.000000</td>\n",
       "      <td>0.000000</td>\n",
       "    </tr>\n",
       "    <tr>\n",
       "      <th>25%</th>\n",
       "      <td>0.000000</td>\n",
       "      <td>0.000000</td>\n",
       "      <td>0.000000</td>\n",
       "      <td>0.000000</td>\n",
       "    </tr>\n",
       "    <tr>\n",
       "      <th>50%</th>\n",
       "      <td>117.500000</td>\n",
       "      <td>0.000000</td>\n",
       "      <td>1.000000</td>\n",
       "      <td>0.000000</td>\n",
       "    </tr>\n",
       "    <tr>\n",
       "      <th>75%</th>\n",
       "      <td>210.250000</td>\n",
       "      <td>149.250000</td>\n",
       "      <td>1.000000</td>\n",
       "      <td>1.000000</td>\n",
       "    </tr>\n",
       "    <tr>\n",
       "      <th>max</th>\n",
       "      <td>4147.000000</td>\n",
       "      <td>1771.000000</td>\n",
       "      <td>1.000000</td>\n",
       "      <td>1.000000</td>\n",
       "    </tr>\n",
       "  </tbody>\n",
       "</table>\n",
       "</div>"
      ],
      "text/plain": [
       "           PosFreq      NegFreq    PosRatio    NegRatio\n",
       "count   276.000000   276.000000  276.000000  276.000000\n",
       "mean    204.358696   100.355072    0.586957    0.413043\n",
       "std     430.968227   200.846710    0.493275    0.493275\n",
       "min       0.000000     0.000000    0.000000    0.000000\n",
       "25%       0.000000     0.000000    0.000000    0.000000\n",
       "50%     117.500000     0.000000    1.000000    0.000000\n",
       "75%     210.250000   149.250000    1.000000    1.000000\n",
       "max    4147.000000  1771.000000    1.000000    1.000000"
      ]
     },
     "execution_count": 15,
     "metadata": {},
     "output_type": "execute_result"
    }
   ],
   "source": [
    "full_df_highfreq = full_df[(full_df.PosFreq>100) | (full_df.NegFreq>100)]\n",
    "full_df_highfreq.describe()"
   ]
  },
  {
   "cell_type": "code",
   "execution_count": 16,
   "metadata": {},
   "outputs": [
    {
     "data": {
      "text/html": [
       "<div>\n",
       "<style scoped>\n",
       "    .dataframe tbody tr th:only-of-type {\n",
       "        vertical-align: middle;\n",
       "    }\n",
       "\n",
       "    .dataframe tbody tr th {\n",
       "        vertical-align: top;\n",
       "    }\n",
       "\n",
       "    .dataframe thead th {\n",
       "        text-align: right;\n",
       "    }\n",
       "</style>\n",
       "<table border=\"1\" class=\"dataframe\">\n",
       "  <thead>\n",
       "    <tr style=\"text-align: right;\">\n",
       "      <th></th>\n",
       "      <th>PosFreq</th>\n",
       "      <th>NegFreq</th>\n",
       "      <th>PosRatio</th>\n",
       "      <th>NegRatio</th>\n",
       "    </tr>\n",
       "    <tr>\n",
       "      <th>Hashtag</th>\n",
       "      <th></th>\n",
       "      <th></th>\n",
       "      <th></th>\n",
       "      <th></th>\n",
       "    </tr>\n",
       "  </thead>\n",
       "  <tbody>\n",
       "    <tr>\n",
       "      <th>ff</th>\n",
       "      <td>4147.0</td>\n",
       "      <td>0.0</td>\n",
       "      <td>1.0</td>\n",
       "      <td>0.0</td>\n",
       "    </tr>\n",
       "    <tr>\n",
       "      <th>yougetmajorpointsif</th>\n",
       "      <td>3367.0</td>\n",
       "      <td>0.0</td>\n",
       "      <td>1.0</td>\n",
       "      <td>0.0</td>\n",
       "    </tr>\n",
       "    <tr>\n",
       "      <th>oomf</th>\n",
       "      <td>3064.0</td>\n",
       "      <td>0.0</td>\n",
       "      <td>1.0</td>\n",
       "      <td>0.0</td>\n",
       "    </tr>\n",
       "    <tr>\n",
       "      <th>teamfollowback</th>\n",
       "      <td>1618.0</td>\n",
       "      <td>0.0</td>\n",
       "      <td>1.0</td>\n",
       "      <td>0.0</td>\n",
       "    </tr>\n",
       "    <tr>\n",
       "      <th>smartnokialumia</th>\n",
       "      <td>1530.0</td>\n",
       "      <td>0.0</td>\n",
       "      <td>1.0</td>\n",
       "      <td>0.0</td>\n",
       "    </tr>\n",
       "    <tr>\n",
       "      <th>...</th>\n",
       "      <td>...</td>\n",
       "      <td>...</td>\n",
       "      <td>...</td>\n",
       "      <td>...</td>\n",
       "    </tr>\n",
       "    <tr>\n",
       "      <th>smh</th>\n",
       "      <td>0.0</td>\n",
       "      <td>114.0</td>\n",
       "      <td>0.0</td>\n",
       "      <td>1.0</td>\n",
       "    </tr>\n",
       "    <tr>\n",
       "      <th>thissucks</th>\n",
       "      <td>0.0</td>\n",
       "      <td>113.0</td>\n",
       "      <td>0.0</td>\n",
       "      <td>1.0</td>\n",
       "    </tr>\n",
       "    <tr>\n",
       "      <th>notgood</th>\n",
       "      <td>0.0</td>\n",
       "      <td>113.0</td>\n",
       "      <td>0.0</td>\n",
       "      <td>1.0</td>\n",
       "    </tr>\n",
       "    <tr>\n",
       "      <th>nsn</th>\n",
       "      <td>0.0</td>\n",
       "      <td>113.0</td>\n",
       "      <td>0.0</td>\n",
       "      <td>1.0</td>\n",
       "    </tr>\n",
       "    <tr>\n",
       "      <th>flatshare</th>\n",
       "      <td>0.0</td>\n",
       "      <td>103.0</td>\n",
       "      <td>0.0</td>\n",
       "      <td>1.0</td>\n",
       "    </tr>\n",
       "  </tbody>\n",
       "</table>\n",
       "<p>143 rows × 4 columns</p>\n",
       "</div>"
      ],
      "text/plain": [
       "                     PosFreq  NegFreq  PosRatio  NegRatio\n",
       "Hashtag                                                  \n",
       "ff                    4147.0      0.0       1.0       0.0\n",
       "yougetmajorpointsif   3367.0      0.0       1.0       0.0\n",
       "oomf                  3064.0      0.0       1.0       0.0\n",
       "teamfollowback        1618.0      0.0       1.0       0.0\n",
       "smartnokialumia       1530.0      0.0       1.0       0.0\n",
       "...                      ...      ...       ...       ...\n",
       "smh                      0.0    114.0       0.0       1.0\n",
       "thissucks                0.0    113.0       0.0       1.0\n",
       "notgood                  0.0    113.0       0.0       1.0\n",
       "nsn                      0.0    113.0       0.0       1.0\n",
       "flatshare                0.0    103.0       0.0       1.0\n",
       "\n",
       "[143 rows x 4 columns]"
      ]
     },
     "execution_count": 16,
     "metadata": {},
     "output_type": "execute_result"
    }
   ],
   "source": [
    "matched_df = full_df_highfreq[full_df_highfreq.index.isin(hashtag_test)]\n",
    "matched_df"
   ]
  },
  {
   "cell_type": "code",
   "execution_count": 17,
   "metadata": {},
   "outputs": [
    {
     "data": {
      "text/html": [
       "<div>\n",
       "<style scoped>\n",
       "    .dataframe tbody tr th:only-of-type {\n",
       "        vertical-align: middle;\n",
       "    }\n",
       "\n",
       "    .dataframe tbody tr th {\n",
       "        vertical-align: top;\n",
       "    }\n",
       "\n",
       "    .dataframe thead th {\n",
       "        text-align: right;\n",
       "    }\n",
       "</style>\n",
       "<table border=\"1\" class=\"dataframe\">\n",
       "  <thead>\n",
       "    <tr style=\"text-align: right;\">\n",
       "      <th></th>\n",
       "      <th>PosFreq</th>\n",
       "      <th>NegFreq</th>\n",
       "      <th>PosRatio</th>\n",
       "      <th>NegRatio</th>\n",
       "    </tr>\n",
       "  </thead>\n",
       "  <tbody>\n",
       "    <tr>\n",
       "      <th>count</th>\n",
       "      <td>143.000000</td>\n",
       "      <td>143.000000</td>\n",
       "      <td>143.000000</td>\n",
       "      <td>143.000000</td>\n",
       "    </tr>\n",
       "    <tr>\n",
       "      <th>mean</th>\n",
       "      <td>267.615385</td>\n",
       "      <td>125.986014</td>\n",
       "      <td>0.559441</td>\n",
       "      <td>0.440559</td>\n",
       "    </tr>\n",
       "    <tr>\n",
       "      <th>std</th>\n",
       "      <td>571.455701</td>\n",
       "      <td>250.847100</td>\n",
       "      <td>0.498199</td>\n",
       "      <td>0.498199</td>\n",
       "    </tr>\n",
       "    <tr>\n",
       "      <th>min</th>\n",
       "      <td>0.000000</td>\n",
       "      <td>0.000000</td>\n",
       "      <td>0.000000</td>\n",
       "      <td>0.000000</td>\n",
       "    </tr>\n",
       "    <tr>\n",
       "      <th>25%</th>\n",
       "      <td>0.000000</td>\n",
       "      <td>0.000000</td>\n",
       "      <td>0.000000</td>\n",
       "      <td>0.000000</td>\n",
       "    </tr>\n",
       "    <tr>\n",
       "      <th>50%</th>\n",
       "      <td>119.000000</td>\n",
       "      <td>0.000000</td>\n",
       "      <td>1.000000</td>\n",
       "      <td>0.000000</td>\n",
       "    </tr>\n",
       "    <tr>\n",
       "      <th>75%</th>\n",
       "      <td>259.000000</td>\n",
       "      <td>175.500000</td>\n",
       "      <td>1.000000</td>\n",
       "      <td>1.000000</td>\n",
       "    </tr>\n",
       "    <tr>\n",
       "      <th>max</th>\n",
       "      <td>4147.000000</td>\n",
       "      <td>1771.000000</td>\n",
       "      <td>1.000000</td>\n",
       "      <td>1.000000</td>\n",
       "    </tr>\n",
       "  </tbody>\n",
       "</table>\n",
       "</div>"
      ],
      "text/plain": [
       "           PosFreq      NegFreq    PosRatio    NegRatio\n",
       "count   143.000000   143.000000  143.000000  143.000000\n",
       "mean    267.615385   125.986014    0.559441    0.440559\n",
       "std     571.455701   250.847100    0.498199    0.498199\n",
       "min       0.000000     0.000000    0.000000    0.000000\n",
       "25%       0.000000     0.000000    0.000000    0.000000\n",
       "50%     119.000000     0.000000    1.000000    0.000000\n",
       "75%     259.000000   175.500000    1.000000    1.000000\n",
       "max    4147.000000  1771.000000    1.000000    1.000000"
      ]
     },
     "execution_count": 17,
     "metadata": {},
     "output_type": "execute_result"
    }
   ],
   "source": [
    "matched_df.describe()"
   ]
  },
  {
   "cell_type": "code",
   "execution_count": 27,
   "metadata": {},
   "outputs": [
    {
     "data": {
      "text/plain": [
       "<AxesSubplot:>"
      ]
     },
     "execution_count": 27,
     "metadata": {},
     "output_type": "execute_result"
    },
    {
     "data": {
      "image/png": "[encoded data removed]",
      "text/plain": [
       "<Figure size 1800x432 with 1 Axes>"
      ]
     },
     "metadata": {
      "needs_background": "light"
     },
     "output_type": "display_data"
    }
   ],
   "source": [
    "matched_pos = matched_df[matched_df.PosFreq>0]['PosFreq']\n",
    "matched_pos.hist(bins=100, figsize=(25,6))"
   ]
  },
  {
   "cell_type": "code",
   "execution_count": 26,
   "metadata": {},
   "outputs": [
    {
     "data": {
      "text/plain": [
       "<AxesSubplot:>"
      ]
     },
     "execution_count": 26,
     "metadata": {},
     "output_type": "execute_result"
    },
    {
     "data": {
      "image/png": "[encoded data removed]",
      "text/plain": [
       "<Figure size 1800x432 with 1 Axes>"
      ]
     },
     "metadata": {
      "needs_background": "light"
     },
     "output_type": "display_data"
    }
   ],
   "source": [
    "matched_neg = matched_df[matched_df.NegFreq>0]['NegFreq']\n",
    "matched_neg.hist(bins=100, figsize=(25,6))"
   ]
  },
  {
   "cell_type": "markdown",
   "metadata": {},
   "source": [
    "#TODO: Slang?"
   ]
  },
  {
   "cell_type": "markdown",
   "metadata": {},
   "source": [
    "# Length Exploration"
   ]
  },
  {
   "cell_type": "markdown",
   "metadata": {},
   "source": [
    "# PoS Exploration"
   ]
  },
  {
   "cell_type": "markdown",
   "metadata": {},
   "source": [
    "# Consecutive Repeating Words Exploration"
   ]
  }
 ],
 "metadata": {
  "interpreter": {
   "hash": "10e8cd3db9af619636183193d03796976e9bfe2b677e014039b52324af88f919"
  },
  "kernelspec": {
   "display_name": "Python 3.8.10 64-bit ('CIL': conda)",
   "name": "python3"
  },
  "language_info": {
   "codemirror_mode": {
    "name": "ipython",
    "version": 3
   },
   "file_extension": ".py",
   "mimetype": "text/x-python",
   "name": "python",
   "nbconvert_exporter": "python",
   "pygments_lexer": "ipython3",
   "version": "3.8.10"
  },
  "orig_nbformat": 2
 },
 "nbformat": 4,
 "nbformat_minor": 2
}