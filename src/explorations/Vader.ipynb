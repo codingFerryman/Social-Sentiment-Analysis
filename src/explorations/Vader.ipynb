{
 "cells": [
  {
   "cell_type": "code",
   "execution_count": 20,
   "source": [
    "import pandas as pd\n",
    "from pandas import DataFrame\n",
    "import numpy as np\n",
    "import re\n",
    "import os, sys\n",
    "sys.path.append(os.path.join(os.getcwd(), '..'))\n",
    "\n",
    "from sklearn.model_selection import train_test_split\n",
    "\n",
    "import vaderSentiment\n",
    "from vaderSentiment.vaderSentiment import SentimentIntensityAnalyzer\n",
    "\n",
    "from utils import get_data_path"
   ],
   "outputs": [],
   "metadata": {}
  },
  {
   "cell_type": "code",
   "execution_count": 9,
   "source": [
    "# Load the dataset from Disk\n",
    "data_path = get_data_path()\n",
    "\n",
    "for dirname, _, filenames in os.walk(data_path):\n",
    "    for filename in filenames:\n",
    "        print(os.path.abspath(os.path.join(dirname, filename)))"
   ],
   "outputs": [
    {
     "output_type": "stream",
     "name": "stdout",
     "text": [
      "/home/he/PycharmProjects/Computational-Intelligence-Lab/data/test_data.txt\n",
      "/home/he/PycharmProjects/Computational-Intelligence-Lab/data/train_neg.txt\n",
      "/home/he/PycharmProjects/Computational-Intelligence-Lab/data/sample_submission.csv\n",
      "/home/he/PycharmProjects/Computational-Intelligence-Lab/data/train_pos.txt\n",
      "/home/he/PycharmProjects/Computational-Intelligence-Lab/data/readme.md\n",
      "/home/he/PycharmProjects/Computational-Intelligence-Lab/data/.gitignore\n",
      "/home/he/PycharmProjects/Computational-Intelligence-Lab/data/train_pos_full.txt\n",
      "/home/he/PycharmProjects/Computational-Intelligence-Lab/data/train_neg_full.txt\n"
     ]
    }
   ],
   "metadata": {}
  },
  {
   "cell_type": "code",
   "execution_count": 13,
   "source": [
    "with open(os.path.join(data_path,'train_pos.txt'), 'r') as fp:\n",
    "    train_pos_sub = fp.readlines()\n",
    "\n",
    "with open(os.path.join(data_path,'train_neg.txt'), 'r') as fp:\n",
    "    train_neg_sub = fp.readlines()\n",
    "\n",
    "with open(os.path.join(data_path,'train_pos_full.txt'), 'r') as fp:\n",
    "    train_pos_full = fp.readlines()\n",
    "\n",
    "with open(os.path.join(data_path,'train_neg_full.txt'), 'r') as fp:\n",
    "    train_neg_full = fp.readlines()\n",
    "\n",
    "with open(os.path.join(data_path,'test_data.txt'), 'r') as fp:\n",
    "    test = fp.readlines()"
   ],
   "outputs": [],
   "metadata": {}
  },
  {
   "cell_type": "code",
   "execution_count": 28,
   "source": [
    "# Combine pos & neg, remove <xxxx>\n",
    "\n",
    "test_data = [re.sub(r'(<.*?>)|(\\r\\n|\\r|\\n)', '', s) for s in test]\n",
    "# <user> <url>"
   ],
   "outputs": [],
   "metadata": {}
  },
  {
   "cell_type": "code",
   "execution_count": 29,
   "source": [
    "test_data[0]"
   ],
   "outputs": [
    {
     "output_type": "execute_result",
     "data": {
      "text/plain": [
       "'1,sea doo pro sea scooter ( sports with the portable sea-doo seascootersave air , stay longer in the water and ... '"
      ]
     },
     "metadata": {},
     "execution_count": 29
    }
   ],
   "metadata": {}
  },
  {
   "cell_type": "code",
   "execution_count": 30,
   "source": [
    "analyzer = SentimentIntensityAnalyzer()"
   ],
   "outputs": [],
   "metadata": {}
  },
  {
   "cell_type": "code",
   "execution_count": 31,
   "source": [
    "analyzer.polarity_scores(test_data[0])"
   ],
   "outputs": [
    {
     "output_type": "execute_result",
     "data": {
      "text/plain": [
       "{'neg': 0.0, 'neu': 1.0, 'pos': 0.0, 'compound': 0.0}"
      ]
     },
     "metadata": {},
     "execution_count": 31
    }
   ],
   "metadata": {}
  },
  {
   "cell_type": "code",
   "execution_count": null,
   "source": [],
   "outputs": [],
   "metadata": {}
  },
  {
   "cell_type": "code",
   "execution_count": 35,
   "source": [
    "pred = []\n",
    "for s in test_data:\n",
    "    scores = analyzer.polarity_scores(s)\n",
    "    if scores['compound'] >= 0:\n",
    "        pred.append(1)\n",
    "    else:\n",
    "        pred.append(-1)"
   ],
   "outputs": [],
   "metadata": {}
  },
  {
   "cell_type": "code",
   "execution_count": 36,
   "source": [
    "pred_dict = {'Id': range(1, 1+len(pred)), 'Prediction': pred}"
   ],
   "outputs": [],
   "metadata": {}
  },
  {
   "cell_type": "code",
   "execution_count": 37,
   "source": [
    "pred_df = DataFrame(pred_dict)"
   ],
   "outputs": [],
   "metadata": {}
  },
  {
   "cell_type": "code",
   "execution_count": 38,
   "source": [
    "pred_df.to_csv('./vader_pure.csv', index=False)"
   ],
   "outputs": [],
   "metadata": {}
  },
  {
   "cell_type": "code",
   "execution_count": null,
   "source": [
    "# <0.7 on test set"
   ],
   "outputs": [],
   "metadata": {}
  }
 ],
 "metadata": {
  "kernelspec": {
   "display_name": "CIL",
   "language": "python",
   "name": "cil"
  },
  "language_info": {
   "codemirror_mode": {
    "name": "ipython",
    "version": 3
   },
   "file_extension": ".py",
   "mimetype": "text/x-python",
   "name": "python",
   "nbconvert_exporter": "python",
   "pygments_lexer": "ipython3",
   "version": "3.8.10"
  }
 },
 "nbformat": 4,
 "nbformat_minor": 5
}