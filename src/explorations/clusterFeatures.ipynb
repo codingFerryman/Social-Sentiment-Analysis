{
 "cells": [
  {
   "cell_type": "code",
   "execution_count": null,
   "source": [
    "import os\n",
    "import sys\n",
    "import numpy as np\n",
    "\n",
    "sys.path.append(os.path.join(os.getcwd(), '..'))\n",
    "\n",
    "# local imports\n",
    "from experimentConfigs.submission import TransformersPredict\n",
    "from utils.diskArray import DiskArray\n",
    "from utils import get_data_path, get_project_path"
   ],
   "outputs": [],
   "metadata": {}
  },
  {
   "cell_type": "code",
   "execution_count": null,
   "source": [
    "# setting up paths\n",
    "currentDir = !pwd\n",
    "DATA_DIR = get_data_path()\n",
    "CIL_REPO = get_project_path()\n",
    "TRAININGS_DIR = os.path.join(CIL_REPO, \"trainings\")\n",
    "load_path = os.path.join(TRAININGS_DIR, \"roberta-base/20210709-102233\")\n",
    "text_path_pos = os.path.join(DATA_DIR, \"train_pos.txt\")\n",
    "text_path_neg = os.path.join(DATA_DIR, \"train_neg.txt\")\n",
    "batch_size=32"
   ],
   "outputs": [],
   "metadata": {}
  },
  {
   "cell_type": "code",
   "execution_count": null,
   "source": [
    "daPos = DiskArray.load(os.path.join(DATA_DIR, \"extracted-features/roberta-features/roberta-base-pos-features.diskArray\")) # need to have this saved in order to work\n",
    "print(len(daPos))\n",
    "print(daPos[1])"
   ],
   "outputs": [],
   "metadata": {}
  },
  {
   "cell_type": "code",
   "execution_count": null,
   "source": [
    "daNeg = DiskArray.load(os.path.join(DATA_DIR, \"extracted-features/roberta-features/roberta-base-neg-features.diskArray\")) # need to have this saved in order to work\n",
    "print(len(daNeg))"
   ],
   "outputs": [],
   "metadata": {}
  },
  {
   "cell_type": "markdown",
   "source": [
    "## Visualization"
   ],
   "metadata": {}
  },
  {
   "cell_type": "code",
   "execution_count": null,
   "source": [
    "import matplotlib\n",
    "from matplotlib import pyplot as plt\n",
    "import sklearn\n",
    "from sklearn import decomposition"
   ],
   "outputs": [],
   "metadata": {}
  },
  {
   "cell_type": "code",
   "execution_count": null,
   "source": [
    "da = daPos + daNeg"
   ],
   "outputs": [],
   "metadata": {}
  },
  {
   "cell_type": "code",
   "execution_count": null,
   "source": [
    "# print vector dimensions\n",
    "pca = sklearn.decomposition.PCA(3, whiten=True)\n",
    "X = pca.fit_transform(daPos)"
   ],
   "outputs": [],
   "metadata": {}
  },
  {
   "cell_type": "code",
   "execution_count": null,
   "source": [],
   "outputs": [],
   "metadata": {}
  }
 ],
 "metadata": {
  "orig_nbformat": 4,
  "language_info": {
   "name": "python"
  }
 },
 "nbformat": 4,
 "nbformat_minor": 2
}